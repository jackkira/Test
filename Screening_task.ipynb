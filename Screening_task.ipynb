{
  "nbformat": 4,
  "nbformat_minor": 0,
  "metadata": {
    "colab": {
      "name": "Screening_task.ipynb",
      "provenance": []
    },
    "kernelspec": {
      "name": "python3",
      "display_name": "Python 3"
    },
    "language_info": {
      "name": "python"
    }
  },
  "cells": [
    {
      "cell_type": "code",
      "execution_count": 13,
      "metadata": {
        "id": "dud_acZ5SK31"
      },
      "outputs": [],
      "source": [
        "\"\"\"Create a function in python to read the text file and replace specific content of the file.\"\"\"\n",
        "def replace_text(x,y):\n",
        "\n",
        "  f = open(\"doc.txt\", \"r+\")\n",
        "  l = f.readlines()\n",
        "  c = 0\n",
        "  for i in l:\n",
        "    if x in i:\n",
        "      Replacement = i.replace(x, y)\n",
        "      l = Replacement\n",
        "      c += 1\n",
        "      f.truncate(0)\n",
        "      f.writelines(l)\n",
        "      f.close()\n",
        "\n",
        "replace_text(\"placement\",\"screening\")"
      ]
    },
    {
      "cell_type": "code",
      "source": [
        "\"\"\"Abstract class\"\"\"\n",
        "\n",
        "from abc import ABC, abstractmethod\n",
        "\n",
        "class Polygon(ABC):\n",
        "\n",
        "\t@abstractmethod\n",
        "\tdef noofsides(self):\n",
        "\t\tpass\n",
        "\n",
        "class Triangle(Polygon):\n",
        "\n",
        "\tdef noofsides(self):\n",
        "\t\tprint(\"I have 3 sides\")\n",
        "\n",
        "class Pentagon(Polygon):\n",
        "\n",
        "\tdef noofsides(self):\n",
        "\t\tprint(\"I have 5 sides\")\n",
        "\n",
        "class Hexagon(Polygon):\n",
        "\n",
        "\tdef noofsides(self):\n",
        "\t\tprint(\"I have 6 sides\")\n",
        "\n",
        "class Quadrilateral(Polygon):\n",
        "\n",
        "\tdef noofsides(self):\n",
        "\t\tprint(\"I have 4 sides\")\n",
        "\n",
        "\n",
        "R = Triangle()\n",
        "R.noofsides()\n",
        "\n",
        "K = Quadrilateral()\n",
        "K.noofsides()\n",
        "\n",
        "R = Pentagon()\n",
        "R.noofsides()\n",
        "\n",
        "K = Hexagon()\n",
        "K.noofsides()"
      ],
      "metadata": {
        "colab": {
          "base_uri": "https://localhost:8080/"
        },
        "id": "KDcZDHK_YiR2",
        "outputId": "c0cd1c7a-a041-4ec4-f9b9-286e7a9f12e6"
      },
      "execution_count": 18,
      "outputs": [
        {
          "output_type": "stream",
          "name": "stdout",
          "text": [
            "I have 3 sides\n",
            "I have 4 sides\n",
            "I have 5 sides\n",
            "I have 6 sides\n"
          ]
        }
      ]
    },
    {
      "cell_type": "code",
      "source": [
        "\"\"\"multiple inheritance\"\"\"\n",
        "class Class1:\n",
        "\tdef m(self):\n",
        "\t\tprint(\"In Class1\")\n",
        "\t\n",
        "class Class2(Class1):\n",
        "\tdef m(self):\n",
        "\t\tprint(\"In Class2\")\n",
        "\n",
        "class Class3(Class1):\n",
        "\tdef m(self):\n",
        "\t\tprint(\"In Class3\")\n",
        "\t\t\n",
        "class Class4(Class2, Class3):\n",
        "\tpass\n",
        "\t\n",
        "obj = Class4()\n",
        "obj.m()"
      ],
      "metadata": {
        "colab": {
          "base_uri": "https://localhost:8080/"
        },
        "id": "aq_uRvdKZIZM",
        "outputId": "eee78679-5e6f-4ff7-f6ae-b1f1f5deb19f"
      },
      "execution_count": 22,
      "outputs": [
        {
          "output_type": "stream",
          "name": "stdout",
          "text": [
            "In Class2\n"
          ]
        }
      ]
    },
    {
      "cell_type": "code",
      "source": [
        "\"\"\"decorator function\"\"\"\n",
        "def smart_div(function):\n",
        "    def inner(x, y):\n",
        "        print(\"I am going to divide\", x, \"and\", y)\n",
        "        if y == 0:\n",
        "            print(\"cannot divide by Zero\")\n",
        "            return\n",
        "\n",
        "        return function(x, y)\n",
        "    return inner\n",
        "\n",
        "\n",
        "@smart_div\n",
        "def divide(x, y):\n",
        "    print(x/y)\n",
        "\n",
        "divide(10,0)"
      ],
      "metadata": {
        "colab": {
          "base_uri": "https://localhost:8080/"
        },
        "id": "ib9bMQSeTrMV",
        "outputId": "fbb12f01-b861-45e1-87cf-273a7d6cfa76"
      },
      "execution_count": 17,
      "outputs": [
        {
          "output_type": "stream",
          "name": "stdout",
          "text": [
            "I am going to divide 10 and 0\n",
            "cannot divide by Zero\n"
          ]
        }
      ]
    },
    {
      "cell_type": "code",
      "source": [
        ""
      ],
      "metadata": {
        "id": "7bRPP6-JUJXf"
      },
      "execution_count": null,
      "outputs": []
    }
  ]
}